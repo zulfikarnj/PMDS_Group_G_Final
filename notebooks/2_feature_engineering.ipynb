{
 "cells": [
  {
   "cell_type": "markdown",
   "metadata": {},
   "source": [
    "Business Objective\n",
    "\n",
    "1. The main objective of this model is to predict next week's death of a population with covid. Informative and important variables will be found using EDA.\n",
    "2. As we need to predict next week's death, regression model is the method chosen.\n",
    "3. Model's accuracy is measured by RMSE"
   ]
  },
  {
   "cell_type": "code",
   "execution_count": 2,
   "metadata": {},
   "outputs": [],
   "source": [
    "import pandas as pd\n",
    "from pandas.api import types\n",
    "from six import string_types\n",
    "\n",
    "import re\n",
    "import numpy as np\n",
    "from tqdm import tqdm\n",
    "\n",
    "import seaborn as sns\n",
    "import matplotlib.pyplot as plt\n",
    "\n",
    "from sklearn.ensemble import RandomForestRegressor\n",
    "from sklearn.model_selection import RandomizedSearchCV, TimeSeriesSplit\n",
    "from sklearn.metrics import make_scorer\n",
    "from sklearn.preprocessing import OneHotEncoder\n",
    "from sklearn.model_selection import train_test_split\n",
    "\n",
    "import joblib\n",
    "\n",
    "# Import library\n",
    "import numpy as np\n",
    "import matplotlib.pyplot as plt\n",
    "\n",
    "from sklearn.preprocessing import StandardScaler\n",
    "from sklearn.linear_model import LinearRegression, Ridge, Lasso\n",
    "from sklearn.metrics import make_scorer\n",
    "from sklearn.ensemble import GradientBoostingRegressor\n",
    "\n",
    "import random"
   ]
  },
  {
   "cell_type": "code",
   "execution_count": 6,
   "metadata": {},
   "outputs": [],
   "source": [
    "def nullpercentage(df):\n",
    "  \"\"\"\n",
    "  This is a function to check percentage of null data in each column of a\n",
    "  pandas dataframe\n",
    "\n",
    "  Parameters\n",
    "  ----------------------\n",
    "  df : pandas dataframe - default input dataframe\n",
    "\n",
    "  Return\n",
    "  ----------------------\n",
    "  null_percent :  pandas dataframe - dataframe of null percentages \n",
    "  \"\"\"\n",
    "  null_percent = df.isnull().sum().sort_values(ascending = False)/len(df)*100\n",
    "  print(null_percent) "
   ]
  },
  {
   "cell_type": "code",
   "execution_count": 8,
   "metadata": {},
   "outputs": [],
   "source": [
    "train_data_path = 'https://raw.githubusercontent.com/fcitra/PMDS_Grup_G/main/train.csv'\n",
    "test_data_path = 'https://raw.githubusercontent.com/fcitra/PMDS_Grup_G/main/test.csv'"
   ]
  },
  {
   "cell_type": "code",
   "execution_count": 10,
   "metadata": {},
   "outputs": [],
   "source": [
    "train_data = pd.read_csv(train_data_path, index_col = None)\n",
    "test_data = pd.read_csv(test_data_path, index_col = None)"
   ]
  },
  {
   "cell_type": "markdown",
   "metadata": {},
   "source": [
    "EDA\n",
    "Most of the fields are self explanatory.\n",
    "\n",
    "Id represents the number of an entry within the training or test data set\n",
    "Location is the population from which the data is taken\n",
    "Other columns are information on death occurences and population profile, particularly their vaccination history"
   ]
  },
  {
   "cell_type": "code",
   "execution_count": 7,
   "metadata": {},
   "outputs": [
    {
     "name": "stdout",
     "output_type": "stream",
     "text": [
      "Total Boosters                         84.633312\n",
      "Total Boosters per Hundred             84.633312\n",
      "People Fully Vaccinated                71.682307\n",
      "People Fully Vaccinated per Hundred    71.682307\n",
      "People Vaccinated                      70.246059\n",
      "People Vaccinated per Hundred          70.246059\n",
      "Total Vaccinations                     68.820651\n",
      "Total Vaccinations per Hundred         68.820651\n",
      "Daily People Vaccinated per Hundred    40.079439\n",
      "Daily People Vaccinated                40.079439\n",
      "Daily Vaccinations per Hundred         39.731797\n",
      "Daily Vaccinations                     39.731797\n",
      "Weekly Deaths per Million               1.478058\n",
      "Weekly Deaths                           0.974016\n",
      "Weekly Cases per Million                0.672055\n",
      "Weekly Cases                            0.164917\n",
      "Id                                      0.000000\n",
      "Location                                0.000000\n",
      "Year                                    0.000000\n",
      "Next Week's Deaths                      0.000000\n",
      "dtype: float64\n"
     ]
    }
   ],
   "source": [
    "nullpercentage(train_data)"
   ]
  },
  {
   "cell_type": "markdown",
   "metadata": {},
   "source": [
    "Lots of null data in columns related to vaccination and even more so in booster shots. Most probably vaccination with null data are taken before covid vaccines are applied. Boosters shots are further down the timeline and therefore less data recorded."
   ]
  },
  {
   "cell_type": "code",
   "execution_count": 11,
   "metadata": {},
   "outputs": [],
   "source": [
    "train_data = train_data.fillna(0)\n",
    "test_data = test_data.fillna(0)"
   ]
  }
 ],
 "metadata": {
  "kernelspec": {
   "display_name": "Python 3.9.6 64-bit",
   "language": "python",
   "name": "python3"
  },
  "language_info": {
   "codemirror_mode": {
    "name": "ipython",
    "version": 3
   },
   "file_extension": ".py",
   "mimetype": "text/x-python",
   "name": "python",
   "nbconvert_exporter": "python",
   "pygments_lexer": "ipython3",
   "version": "3.9.6"
  },
  "orig_nbformat": 4,
  "vscode": {
   "interpreter": {
    "hash": "31f2aee4e71d21fbe5cf8b01ff0e069b9275f58929596ceb00d14d90e3e16cd6"
   }
  }
 },
 "nbformat": 4,
 "nbformat_minor": 2
}
