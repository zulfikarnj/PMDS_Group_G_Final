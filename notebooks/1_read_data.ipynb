{
 "cells": [
  {
   "cell_type": "code",
   "execution_count": 7,
   "metadata": {},
   "outputs": [],
   "source": [
    "import pandas as pd\n",
    "from pandas.api import types\n",
    "from six import string_types\n",
    "import joblib"
   ]
  },
  {
   "cell_type": "code",
   "execution_count": 8,
   "metadata": {},
   "outputs": [],
   "source": [
    "def read_data(path, save_file=True, return_file=True):\n",
    "    \"\"\"\n",
    "    Function to open .csv files\n",
    "\n",
    "    Parameters\n",
    "    -----------\n",
    "    path        : str   - Dataset path\n",
    "    save_file   : bool  - If true, will save dataframe file in pickle\n",
    "    return_file : bool  - If true, will do data return              \n",
    "    \n",
    "    Return\n",
    "    -------\n",
    "    data    : pandas dataframe  - dataframe from pandas environment\n",
    "    \"\"\"\n",
    "    # Read data\n",
    "    data = pd.read_csv(path)\n",
    "\n",
    "    \n",
    "    #Bagian dump ini bisa tidak diikutkan\n",
    "    if save_file:\n",
    "        joblib.dump(data, \"data.pkl\")\n",
    "    \n",
    "    if return_file:\n",
    "        return data\n",
    "\n"
   ]
  },
  {
   "cell_type": "code",
   "execution_count": 9,
   "metadata": {},
   "outputs": [],
   "source": [
    "def split_input_output(dataset, target_column, save_file=True, return_file=True):\n",
    "    \"\"\"\n",
    "    Function to separate dataset to input & output (based on target_column)\n",
    "\n",
    "    Parameters\n",
    "    -----------\n",
    "    dataset         : pandas dataframe  - Dataset\n",
    "    target_column   : str               - nama kolom yang jadi output\n",
    "    save_file       : bool              - Apabila true, akan melakukan saving file dataframe dalam pickle\n",
    "    return_file     : bool              - Apabila true, akan melakukan return data              \n",
    "    \n",
    "    Return\n",
    "    -------\n",
    "    input_df        : pandas dataframe  - dataframe input\n",
    "    output_df       : pandas dataframe  - dataframe output\n",
    "    \"\"\"\n",
    "    output_df = dataset[target_column]\n",
    "    input_df = dataset.drop([target_column], axis=1)    # drop kolom target\n",
    "\n",
    "    #Bagian dump ini bisa tidak diikutkan\n",
    "    if save_file:\n",
    "        joblib.dump(input_df, \"input_df.pickle\")\n",
    "        joblib.dump(output_df, \"output_df.pickle\")\n",
    "\n",
    "    if return_file:\n",
    "        return input_df, output_df"
   ]
  },
  {
   "cell_type": "code",
   "execution_count": 10,
   "metadata": {},
   "outputs": [],
   "source": [
    "def split_train_validation(input_df, output_df, save_file=True, return_file=True, test_size=0.2):\n",
    "    \"\"\"\n",
    "    Fungsi untuk memisahkan dataset training menjadi training dataset & validation dataset\n",
    "    untuk kebutuhan validasi, dengan perbandingan test_size = validation_dataset/total_dataset\n",
    "\n",
    "    Parameters\n",
    "    -----------\n",
    "    input_df    : pandas dataframe  - dataframe input\n",
    "    output_df   : pandas dataframe  - dataframe output\n",
    "    save_file   : bool              - Apabila true, akan melakukan saving file dataframe dalam pickle\n",
    "    return_file : bool              - Apabila true, akan melakukan return data  \n",
    "\n",
    "    Return\n",
    "    -------\n",
    "    X_train           : pandas dataframe  - dataframe training input\n",
    "    X_validation      : pandas dataframe  - dataframe validation input\n",
    "    y_train           : pandas dataframe  - dataframe training output\n",
    "    y_validation      : pandas dataframe  - dataframe validation output\n",
    "    \"\"\"\n",
    "    # Copy data biar tidak terjadi aliasing\n",
    "    X = input_df.copy()\n",
    "    y = output_df.copy()\n",
    "\n",
    "    # Split data\n",
    "    # Random state = 123 untuk mempermudah duplikasi riset\n",
    "    X_train, X_validation, y_train, y_validation = train_test_split(X, y, \n",
    "                                                                    test_size=test_size,\n",
    "                                                                    random_state=123)\n",
    "\n",
    "    #Bagian dump ini bisa tidak diikutkan\n",
    "    if save_file:\n",
    "        joblib.dump(X_train, \"X_train.pickle\")\n",
    "        joblib.dump(X_validation, \"X_validation.pickle\")\n",
    "        joblib.dump(y_train, \"y_train.pickle\")\n",
    "        joblib.dump(y_validation, \"y_validation.pickle\")\n",
    "\n",
    "    if return_file:\n",
    "        return X_train, X_validation, y_train, y_validation"
   ]
  },
  {
   "cell_type": "code",
   "execution_count": 11,
   "metadata": {},
   "outputs": [],
   "source": [
    "def rename_columns(df):\n",
    "\n",
    "    col_names = {\n",
    "    \"Weekly Cases\" : \"WeekCase\",\n",
    "    \"Weekly Cases per Million\" : \"WeekCasePerMil\",\n",
    "    \"Weekly Deaths\" : \"WeekDeath\",\n",
    "    \"Weekly Deaths per Million\" : \"WeekDeathPerMil\",\n",
    "    \"Total Vaccinations\" : \"TotalVac\",\n",
    "    \"People Vaccinated\" : \"PeopleVac\",\n",
    "    \"People Fully Vaccinated\" : \"PeopleFullVac\",\n",
    "    \"Total Boosters\" : \"TotalBoost\",\n",
    "    \"Daily Vaccinations\" : \"DailyVac\",\n",
    "    \"Total Vaccinations per Hundred\" : \"TotalVacPerHun\",\n",
    "    \"People Vaccinated per Hundred\" : \"PeopleVacPerHun\",\n",
    "    \"People Fully Vaccinated per Hundred\" : \"PeopleFullVacPerHun\",\n",
    "    \"Total Boosters per Hundred\" : \"TotalBoostPerHun\",\n",
    "    \"Daily Vaccinations per Hundred\" : \"DailyVacPerHun\",\n",
    "    \"Daily People Vaccinated\" : \"DailyPeopleVac\",\n",
    "    \"Daily People Vaccinated per Hundred\" : \"DailyPeopleVacPerHun\",\n",
    "    \"Next Week's Deaths\" : \"NWD\"}\n",
    "    df = df.rename(columns = col_names)\n",
    "    return df"
   ]
  },
  {
   "cell_type": "code",
   "execution_count": 5,
   "metadata": {},
   "outputs": [],
   "source": [
    "train_data_path = 'https://raw.githubusercontent.com/fcitra/PMDS_Grup_G/main/train.csv'\n",
    "test_data_path = 'https://raw.githubusercontent.com/fcitra/PMDS_Grup_G/main/test.csv'"
   ]
  },
  {
   "cell_type": "code",
   "execution_count": 12,
   "metadata": {},
   "outputs": [],
   "source": [
    "train_data = read_data(train_data_path)\n",
    "test_data = read_data(test_data_path)"
   ]
  },
  {
   "cell_type": "code",
   "execution_count": 13,
   "metadata": {},
   "outputs": [],
   "source": [
    "train_data = rename_columns(train_data)\n",
    "test_data = rename_columns(test_data)"
   ]
  }
 ],
 "metadata": {
  "kernelspec": {
   "display_name": "Python 3.9.6 64-bit",
   "language": "python",
   "name": "python3"
  },
  "language_info": {
   "codemirror_mode": {
    "name": "ipython",
    "version": 3
   },
   "file_extension": ".py",
   "mimetype": "text/x-python",
   "name": "python",
   "nbconvert_exporter": "python",
   "pygments_lexer": "ipython3",
   "version": "3.9.6"
  },
  "orig_nbformat": 4,
  "vscode": {
   "interpreter": {
    "hash": "31f2aee4e71d21fbe5cf8b01ff0e069b9275f58929596ceb00d14d90e3e16cd6"
   }
  }
 },
 "nbformat": 4,
 "nbformat_minor": 2
}
